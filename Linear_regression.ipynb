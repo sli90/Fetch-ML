{
 "cells": [
  {
   "cell_type": "code",
   "execution_count": 1,
   "id": "1b68774b",
   "metadata": {},
   "outputs": [],
   "source": [
    "import numpy as np\n",
    "import matplotlib.pyplot as plt\n",
    "import pandas as pd"
   ]
  },
  {
   "cell_type": "code",
   "execution_count": 175,
   "id": "d87d082b",
   "metadata": {},
   "outputs": [
    {
     "name": "stdout",
     "output_type": "stream",
     "text": [
      "data_by_day: (365, 3)\n",
      "data_by_month: (12,)\n",
      "309948684.0\n"
     ]
    },
    {
     "data": {
      "text/plain": [
       "Text(0, 0.5, 'The number of receipts (2021)')"
      ]
     },
     "execution_count": 175,
     "metadata": {},
     "output_type": "execute_result"
    },
    {
     "data": {
      "image/png": "[encoded data removed]",
      "text/plain": [
       "<Figure size 432x288 with 1 Axes>"
      ]
     },
     "metadata": {
      "needs_background": "light"
     },
     "output_type": "display_data"
    }
   ],
   "source": [
    "#load the data by day\n",
    "data = pd.read_csv(r\"data_daily.csv\").to_numpy()\n",
    "print('data_by_day:', data.shape)\n",
    "\n",
    "#plot the data by month\n",
    "# plt.scatter([i+1 for i in range(len(data[:,0]))], data[:,2])\n",
    "# plt.xlabel('Days')\n",
    "# plt.ylabel('The number of receipts')\n",
    "\n",
    "#convert the data by month\n",
    "data_mon = np.zeros(shape=(12,))\n",
    "for i, month in enumerate(data[:,1]):\n",
    "    data_mon[month-1] += data[i,2]\n",
    "print('data_by_month:', data_mon.shape)\n",
    "print(np.amax(data_mon))\n",
    "\n",
    "#plot the data by month\n",
    "plt.scatter([i+1 for i in range(len(data_mon))], data_mon)\n",
    "plt.xlabel('Month')\n",
    "plt.ylabel('The number of receipts (2021)')"
   ]
  },
  {
   "cell_type": "code",
   "execution_count": 86,
   "id": "ee207c58",
   "metadata": {},
   "outputs": [],
   "source": [
    "#calculate the cost function\n",
    "def cal_cost(x,y,a):\n",
    "    '''\n",
    "    x = day, (365,)\n",
    "    y = the number of receipts, (365,)\n",
    "    a = parameters with bias units, (2,1)\n",
    "    Returns a cost value\n",
    "    '''\n",
    "    \n",
    "    m = len(y)  # the number of dataset\n",
    "    \n",
    "    predictions = np.dot(x,a)  # (m,)\n",
    "    cost = 1/(2*m) * np.sum(np.square(predictions-y))\n",
    "    \n",
    "    return cost"
   ]
  },
  {
   "cell_type": "code",
   "execution_count": 108,
   "id": "4b30a6a7",
   "metadata": {},
   "outputs": [],
   "source": [
    "#calculate the gradient_descent\n",
    "def gradient_descent(x,y,a,learning_rate,iterations):\n",
    "    '''\n",
    "    x = day, (365,)\n",
    "    y = the number of receipts, (365,)\n",
    "    a = parameters with bias units, (2,1)\n",
    "    Returns the final a vector and array of cost history over number of iterations\n",
    "    '''\n",
    "    \n",
    "    m = len(y)  # the number of dataset\n",
    "    \n",
    "    cost_history = np.zeros(iterations)   # (iterations,)\n",
    "    a_history = np.zeros((iterations,2))  # (iterations,)\n",
    "    \n",
    "    for it in range(iterations):\n",
    "        \n",
    "        prediction = np.dot(x,a)\n",
    "        a = a - (1/m) * learning_rate * ( x.T.dot((prediction - y)))\n",
    "        a_history[it,:] = a.T\n",
    "        cost_history[it] = cal_cost(x,y,a)\n",
    "        \n",
    "    return cost_history, a_history"
   ]
  },
  {
   "cell_type": "code",
   "execution_count": 160,
   "id": "121a9722",
   "metadata": {},
   "outputs": [
    {
     "name": "stdout",
     "output_type": "stream",
     "text": [
      "(12, 2) (12, 1)\n",
      "a_history:  [0.61758661 0.44837576]\n",
      "Final cost/MSE:  0.001\n"
     ]
    }
   ],
   "source": [
    "#data normalization\n",
    "data_mon = data_mon/np.amax(data_mon)\n",
    "#prepare the training data, (predict = a_0 + a_1*month)\n",
    "month = np.array([i+1 for i in range(len(data_mon))]).reshape((len(data_mon),1))/len(data_mon)\n",
    "x = np.c_[np.ones((len(data_mon),1)), month]  # month\n",
    "y = data_mon.reshape((len(data_mon),1))    # predict(the numbe of receipts)\n",
    "print(x.shape, y.shape)\n",
    "\n",
    "# parameters (predict(the numbe of receipts) = a_0 + a_1*days)\n",
    "lr = 0.1\n",
    "n_iter = 50\n",
    "a = np.random.rand(2,1)   # a = [a_0, a_1]\n",
    "\n",
    "cost_history,a_history = gradient_descent(x,y,a,lr,n_iter)\n",
    "print('a_history: ', a_history[-1])\n",
    "print('Final cost/MSE:  {:0.3f}'.format(cost_history[-1]))"
   ]
  },
  {
   "cell_type": "code",
   "execution_count": 161,
   "id": "25f4ed58",
   "metadata": {},
   "outputs": [
    {
     "data": {
      "text/plain": [
       "<matplotlib.collections.PathCollection at 0x2ae69471710>"
      ]
     },
     "execution_count": 161,
     "metadata": {},
     "output_type": "execute_result"
    },
    {
     "data": {
      "image/png": "[encoded data removed]",
      "text/plain": [
       "<Figure size 432x288 with 1 Axes>"
      ]
     },
     "metadata": {
      "needs_background": "light"
     },
     "output_type": "display_data"
    }
   ],
   "source": [
    "# plot the cost and paramters history\n",
    "plt.scatter(range(n_iter), cost_history, s=0.5, color='blue')"
   ]
  },
  {
   "cell_type": "code",
   "execution_count": 162,
   "id": "f6f3c5f1",
   "metadata": {},
   "outputs": [
    {
     "data": {
      "text/plain": [
       "array([[1.        , 0.08333333],\n",
       "       [1.        , 0.16666667],\n",
       "       [1.        , 0.25      ],\n",
       "       [1.        , 0.33333333],\n",
       "       [1.        , 0.41666667],\n",
       "       [1.        , 0.5       ],\n",
       "       [1.        , 0.58333333],\n",
       "       [1.        , 0.66666667],\n",
       "       [1.        , 0.75      ],\n",
       "       [1.        , 0.83333333],\n",
       "       [1.        , 0.91666667],\n",
       "       [1.        , 1.        ]])"
      ]
     },
     "execution_count": 162,
     "metadata": {},
     "output_type": "execute_result"
    }
   ],
   "source": [
    "x"
   ]
  },
  {
   "cell_type": "code",
   "execution_count": 174,
   "id": "843aafbd",
   "metadata": {},
   "outputs": [
    {
     "name": "stdout",
     "output_type": "stream",
     "text": [
      "[2.03001280e+08 2.14582403e+08 2.26163527e+08 2.37744650e+08\n",
      " 2.49325773e+08 2.60906896e+08 2.72488019e+08 2.84069142e+08\n",
      " 2.95650265e+08 3.07231388e+08 3.18812511e+08 3.30393635e+08]\n"
     ]
    },
    {
     "data": {
      "text/plain": [
       "Text(0, 0.5, 'The number of receipts (2022)')"
      ]
     },
     "execution_count": 174,
     "metadata": {},
     "output_type": "execute_result"
    },
    {
     "data": {
      "image/png": "[encoded data removed]",
      "text/plain": [
       "<Figure size 432x288 with 1 Axes>"
      ]
     },
     "metadata": {
      "needs_background": "light"
     },
     "output_type": "display_data"
    }
   ],
   "source": [
    "#test the pre-trained paramters by predicting the number of receipts od 2022\n",
    "#denormalize the data after normalization, 309948684:np.amax(data_mon)\n",
    "prediction = np.dot(x, a_history[-1]) * 309948684 \n",
    "print(prediction)\n",
    "\n",
    "#plot the prediction\n",
    "plt.scatter(x[:,1], prediction)\n",
    "plt.xlabel('Month')\n",
    "plt.ylabel('The number of receipts (2022)')"
   ]
  },
  {
   "cell_type": "code",
   "execution_count": null,
   "id": "29c41f43",
   "metadata": {},
   "outputs": [],
   "source": []
  }
 ],
 "metadata": {
  "kernelspec": {
   "display_name": "Python 3",
   "language": "python",
   "name": "python3"
  },
  "language_info": {
   "codemirror_mode": {
    "name": "ipython",
    "version": 3
   },
   "file_extension": ".py",
   "mimetype": "text/x-python",
   "name": "python",
   "nbconvert_exporter": "python",
   "pygments_lexer": "ipython3",
   "version": "3.7.0"
  }
 },
 "nbformat": 4,
 "nbformat_minor": 5
}
